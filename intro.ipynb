{
 "cells": [
  {
   "cell_type": "code",
   "execution_count": 1,
   "id": "7864537d",
   "metadata": {},
   "outputs": [],
   "source": [
    "x = 10\n",
    "y = 27\n",
    "name = \"Avidvesha\"\n",
    "isValid = True"
   ]
  },
  {
   "cell_type": "code",
   "execution_count": 6,
   "id": "2b80e0df",
   "metadata": {},
   "outputs": [
    {
     "data": {
      "text/plain": [
       "True"
      ]
     },
     "execution_count": 6,
     "metadata": {},
     "output_type": "execute_result"
    }
   ],
   "source": [
    "isValid"
   ]
  },
  {
   "cell_type": "code",
   "execution_count": 10,
   "id": "6d7c1781",
   "metadata": {},
   "outputs": [
    {
     "name": "stdout",
     "output_type": "stream",
     "text": [
      "Take remedial\n"
     ]
    }
   ],
   "source": [
    "passed = \"no\"\n",
    "if passed == \"no\":\n",
    "  print(\"Take remedial\")"
   ]
  },
  {
   "cell_type": "code",
   "execution_count": null,
   "id": "8ebe90ab",
   "metadata": {},
   "outputs": [
    {
     "name": "stdout",
     "output_type": "stream",
     "text": [
      "You can't make a citizen ID\n"
     ]
    }
   ],
   "source": [
    "age = int(input(\"Your age: \"))\n",
    "\n",
    "if age >= 17:\n",
    "  print(\"You can make a citizen ID\")\n",
    "else:\n",
    "  print(\"You can't make a citizen ID\")"
   ]
  },
  {
   "cell_type": "code",
   "execution_count": 20,
   "id": "392ff269",
   "metadata": {},
   "outputs": [
    {
     "name": "stdout",
     "output_type": "stream",
     "text": [
      "5 is equal to 5\n"
     ]
    }
   ],
   "source": [
    "x = 5\n",
    "\n",
    "if x > 5:\n",
    "  print(f\"{x} is more than 5\")\n",
    "elif x == 5:\n",
    "  print(f\"{x} is equal to 5\")\n",
    "else:\n",
    "  print(f\"{x} is less than 5\")\n",
    "  "
   ]
  },
  {
   "cell_type": "code",
   "execution_count": 24,
   "id": "7a1a60a5",
   "metadata": {},
   "outputs": [
    {
     "name": "stdout",
     "output_type": "stream",
     "text": [
      "0\n",
      "1\n",
      "2\n",
      "3\n",
      "4\n",
      "5\n",
      "6\n"
     ]
    }
   ],
   "source": [
    "for i in range(7):\n",
    "  print(i)"
   ]
  },
  {
   "cell_type": "code",
   "execution_count": 27,
   "id": "43a42ba3",
   "metadata": {},
   "outputs": [
    {
     "name": "stdout",
     "output_type": "stream",
     "text": [
      "0\n",
      "1\n",
      "2\n",
      "3\n",
      "4\n"
     ]
    }
   ],
   "source": [
    "count = 0\n",
    "\n",
    "while count < 5:\n",
    "  print(count)\n",
    "  count += 1"
   ]
  },
  {
   "cell_type": "code",
   "execution_count": 29,
   "id": "f179f7f5",
   "metadata": {},
   "outputs": [
    {
     "name": "stdout",
     "output_type": "stream",
     "text": [
      "Hello, Dianta\n"
     ]
    }
   ],
   "source": [
    "def greet(name):\n",
    "  return f\"Hello, {name}\"\n",
    "\n",
    "print(greet(\"Dianta\"))"
   ]
  },
  {
   "cell_type": "code",
   "execution_count": 31,
   "id": "97cb326f",
   "metadata": {},
   "outputs": [
    {
     "name": "stdout",
     "output_type": "stream",
     "text": [
      "['apple', 'banana', 'cherry', 'durian']\n"
     ]
    }
   ],
   "source": [
    "fruits = [\"apple\", \"banana\", \"cherry\"]\n",
    "fruits.append(\"durian\")\n",
    "print(fruits)"
   ]
  },
  {
   "cell_type": "code",
   "execution_count": 35,
   "id": "68ac898d",
   "metadata": {},
   "outputs": [
    {
     "name": "stdout",
     "output_type": "stream",
     "text": [
      "green\n"
     ]
    }
   ],
   "source": [
    "colors = (\"red\", \"green\", \"blue\")\n",
    "print(colors[1])"
   ]
  },
  {
   "cell_type": "code",
   "execution_count": 39,
   "id": "ba32e131",
   "metadata": {},
   "outputs": [
    {
     "name": "stdout",
     "output_type": "stream",
     "text": [
      "20\n"
     ]
    }
   ],
   "source": [
    "person = {\n",
    "  \"name\" : \"Vesha\",\n",
    "  \"age\" : 20\n",
    "}\n",
    "print(person[\"age\"])"
   ]
  },
  {
   "cell_type": "code",
   "execution_count": 42,
   "id": "e011afc6",
   "metadata": {},
   "outputs": [
    {
     "name": "stdout",
     "output_type": "stream",
     "text": [
      "{1, 3, 4, 5, 6, 7}\n"
     ]
    }
   ],
   "source": [
    "numbers = {1,3,4,4,5,6,7,7}\n",
    "print(numbers)"
   ]
  }
 ],
 "metadata": {
  "kernelspec": {
   "display_name": "dianta",
   "language": "python",
   "name": "dianta"
  },
  "language_info": {
   "codemirror_mode": {
    "name": "ipython",
    "version": 3
   },
   "file_extension": ".py",
   "mimetype": "text/x-python",
   "name": "python",
   "nbconvert_exporter": "python",
   "pygments_lexer": "ipython3",
   "version": "3.10.18"
  }
 },
 "nbformat": 4,
 "nbformat_minor": 5
}
