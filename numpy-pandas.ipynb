{
 "cells": [
  {
   "cell_type": "code",
   "execution_count": 1,
   "id": "7cfe650c",
   "metadata": {},
   "outputs": [],
   "source": [
    "import numpy as np"
   ]
  },
  {
   "cell_type": "code",
   "execution_count": 7,
   "id": "4eb25d21",
   "metadata": {},
   "outputs": [
    {
     "data": {
      "text/plain": [
       "array([ 0,  3,  6,  9, 12, 15, 18, 21, 24])"
      ]
     },
     "execution_count": 7,
     "metadata": {},
     "output_type": "execute_result"
    }
   ],
   "source": [
    "np.arange(0, 27, 3)"
   ]
  },
  {
   "cell_type": "code",
   "execution_count": 19,
   "id": "ee8243f8",
   "metadata": {},
   "outputs": [
    {
     "data": {
      "text/plain": [
       "array([0.        , 0.26923077, 0.53846154, 0.80769231, 1.07692308,\n",
       "       1.34615385, 1.61538462, 1.88461538, 2.15384615, 2.42307692,\n",
       "       2.69230769, 2.96153846, 3.23076923, 3.5       , 3.76923077,\n",
       "       4.03846154, 4.30769231, 4.57692308, 4.84615385, 5.11538462,\n",
       "       5.38461538, 5.65384615, 5.92307692, 6.19230769, 6.46153846,\n",
       "       6.73076923, 7.        ])"
      ]
     },
     "execution_count": 19,
     "metadata": {},
     "output_type": "execute_result"
    }
   ],
   "source": [
    "np.linspace(0, 7, 27)"
   ]
  },
  {
   "cell_type": "code",
   "execution_count": 33,
   "id": "0bec02c5",
   "metadata": {},
   "outputs": [
    {
     "data": {
      "text/plain": [
       "array([[ 0,  1,  2,  3,  4],\n",
       "       [ 5,  6,  7,  8,  9],\n",
       "       [10, 11, 12, 13, 14],\n",
       "       [15, 16, 17, 18, 19],\n",
       "       [20, 21, 22, 23, 24],\n",
       "       [25, 26, 27, 28, 29]])"
      ]
     },
     "execution_count": 33,
     "metadata": {},
     "output_type": "execute_result"
    }
   ],
   "source": [
    "arr = np.arange(30)\n",
    "arr.reshape(6, 5)"
   ]
  },
  {
   "cell_type": "code",
   "execution_count": 40,
   "id": "76c50183",
   "metadata": {},
   "outputs": [
    {
     "data": {
      "text/plain": [
       "array([[[0.20595542, 0.45916076, 0.98014576, 0.93341041],\n",
       "        [0.71889801, 0.14073852, 0.20416236, 0.83251829]],\n",
       "\n",
       "       [[0.5530682 , 0.35062228, 0.67992659, 0.83737787],\n",
       "        [0.84226819, 0.1467731 , 0.09802075, 0.57608803]],\n",
       "\n",
       "       [[0.34091173, 0.02320373, 0.60523512, 0.8536423 ],\n",
       "        [0.67825323, 0.20304804, 0.08244283, 0.0327861 ]]])"
      ]
     },
     "execution_count": 40,
     "metadata": {},
     "output_type": "execute_result"
    }
   ],
   "source": [
    "np.random.rand(3, 2, 4)"
   ]
  },
  {
   "cell_type": "code",
   "execution_count": 41,
   "id": "9afb1a0e",
   "metadata": {},
   "outputs": [
    {
     "data": {
      "text/plain": [
       "array([[20, 17],\n",
       "       [48, 41]])"
      ]
     },
     "execution_count": 41,
     "metadata": {},
     "output_type": "execute_result"
    }
   ],
   "source": [
    "a = np.array([[1, 2], [3, 4]])\n",
    "b = np.array([[8, 7], [6, 5]])\n",
    "np.dot(a, b)"
   ]
  },
  {
   "cell_type": "code",
   "execution_count": 42,
   "id": "ea0dc294",
   "metadata": {},
   "outputs": [
    {
     "name": "stdout",
     "output_type": "stream",
     "text": [
      "6.0\n",
      "6.0\n",
      "2.8284271247461903\n"
     ]
    }
   ],
   "source": [
    "arr = np.array([2, 4, 6, 8, 10])\n",
    "print(np.mean(arr))\n",
    "print(np.median(arr))\n",
    "print(np.std(arr))"
   ]
  },
  {
   "cell_type": "code",
   "execution_count": 43,
   "id": "74885466",
   "metadata": {},
   "outputs": [],
   "source": [
    "import pandas as pd"
   ]
  },
  {
   "cell_type": "code",
   "execution_count": null,
   "id": "42452fce",
   "metadata": {},
   "outputs": [],
   "source": []
  }
 ],
 "metadata": {
  "kernelspec": {
   "display_name": "dianta",
   "language": "python",
   "name": "dianta"
  },
  "language_info": {
   "codemirror_mode": {
    "name": "ipython",
    "version": 3
   },
   "file_extension": ".py",
   "mimetype": "text/x-python",
   "name": "python",
   "nbconvert_exporter": "python",
   "pygments_lexer": "ipython3",
   "version": "3.10.18"
  }
 },
 "nbformat": 4,
 "nbformat_minor": 5
}
